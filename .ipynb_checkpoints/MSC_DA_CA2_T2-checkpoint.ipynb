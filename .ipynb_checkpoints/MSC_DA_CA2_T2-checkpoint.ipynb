{
 "cells": [
  {
   "cell_type": "code",
   "execution_count": null,
   "id": "00a9a99f",
   "metadata": {},
   "outputs": [],
   "source": [
    "import tweepy\n",
    "from textblob import TextBlob\n",
    "import pandas as pd\n",
    "\n",
    "# Twitter API credentials\n",
    "consumer_key = 'ps5959yzLSnBBb1l3sa9rXrc8'\n",
    "consumer_secret = 'tT6TX4Y9kDAkOSuAgMdFjgMIORvpZ7ryvjpTdy1WiMViO1JhwJ'\n",
    "access_token = 'ps5959yzLSnBBb1l3sa9rXrc8'\n",
    "access_token_secret = 'tT6TX4Y9kDAkOSuAgMdFjgMIORvpZ7ryvjpTdy1WiMViO1JhwJ'\n",
    "\n",
    "# Authenticate with the Twitter API\n",
    "auth = tweepy.OAuthHandler(consumer_key, consumer_secret)\n",
    "auth.set_access_token(access_token, access_token_secret)\n",
    "api = tweepy.API(auth)\n",
    "\n",
    "# Define the topic you want to analyze\n",
    "topic = 'example topic'\n",
    "\n",
    "# Collect tweets on the topic for the last year\n",
    "tweets = tweepy.Cursor(api.search_tweets, q=topic, lang='en', tweet_mode='extended', since_id='2022-05-10', until_id='2023-05-10').items()\n",
    "\n",
    "# Create an empty DataFrame to store the tweet data\n",
    "tweet_data = pd.DataFrame(columns=['tweet', 'polarity', 'subjectivity', 'date'])\n",
    "\n",
    "# Loop through the tweets and perform sentiment analysis on each one\n",
    "for tweet in tweets:\n",
    "    tweet_text = tweet.full_text\n",
    "    tweet_date = tweet.created_at\n",
    "    analysis = TextBlob(tweet_text)\n",
    "    polarity = analysis.sentiment.polarity\n",
    "    subjectivity = analysis.sentiment.subjectivity\n",
    "    tweet_data = tweet_data.append({'tweet': tweet_text, 'polarity': polarity, 'subjectivity': subjectivity, 'date': tweet_date}, ignore_index=True)\n",
    "\n",
    "# Save the tweet data to a CSV file\n",
    "tweet_data.to_csv('tweet_data.csv', index=False)"
   ]
  },
  {
   "cell_type": "code",
   "execution_count": null,
   "id": "b1b6390b",
   "metadata": {},
   "outputs": [],
   "source": [
    "import pandas as pd\n",
    "import plotly.express as px\n",
    "import dash\n",
    "import dash_core_components as dcc\n",
    "import dash_html_components as html\n",
    "\n",
    "# Load the tweet data\n",
    "tweet_data = pd.read_csv('tweet_data.csv')\n",
    "\n",
    "# Create a Plotly line chart of the sentiment over time\n",
    "fig = px.line(tweet_data, x='date', y='polarity', title='Sentiment over Time')\n",
    "\n",
    "# Create a Dash app\n",
    "app = dash.Dash(__name__)\n",
    "\n",
    "# Define the app layout\n",
    "app.layout = html.Div(children=[\n",
    "    html.H1(children='Sentiment Analysis Dashboard'),\n",
    "    html.Div(children='''A dashboard to display sentiment analysis on a specific topic.'''),\n",
    "    dcc.Graph(id='sentiment-chart', figure=fig)\n",
    "])\n",
    "\n",
    "# Run the app\n",
    "if __name__ == '__main__':\n",
    "    app.run_server(debug=True)"
   ]
  }
 ],
 "metadata": {
  "kernelspec": {
   "display_name": "Python 3 (ipykernel)",
   "language": "python",
   "name": "python3"
  },
  "language_info": {
   "codemirror_mode": {
    "name": "ipython",
    "version": 3
   },
   "file_extension": ".py",
   "mimetype": "text/x-python",
   "name": "python",
   "nbconvert_exporter": "python",
   "pygments_lexer": "ipython3",
   "version": "3.9.12"
  }
 },
 "nbformat": 4,
 "nbformat_minor": 5
}
