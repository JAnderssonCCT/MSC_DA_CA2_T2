{
 "cells": [
  {
   "cell_type": "markdown",
   "id": "0fa46a96",
   "metadata": {},
   "source": [
    "# Loading the credentials"
   ]
  },
  {
   "cell_type": "code",
   "execution_count": null,
   "id": "a580f035",
   "metadata": {},
   "outputs": [],
   "source": [
    "# Load the Twitter API credentials from the config file\n",
    "import json\n",
    "with open('config.json', 'r') as f:\n",
    "    config = json.load(f)\n",
    "    consumer_key = config['consumer_key']\n",
    "    consumer_secret = config['consumer_secret']\n",
    "    access_token = config['access_token']\n",
    "    access_token_secret = config['access_token_secret']"
   ]
  },
  {
   "cell_type": "markdown",
   "id": "8a863746",
   "metadata": {},
   "source": [
    "# Downloading twitter data"
   ]
  },
  {
   "cell_type": "code",
   "execution_count": null,
   "id": "f066c858",
   "metadata": {},
   "outputs": [],
   "source": [
    "import tweepy\n",
    "from textblob import TextBlob\n",
    "import pandas as pd\n",
    "import os\n",
    "\n",
    "# Authenticate with the Twitter API\n",
    "auth = tweepy.OAuthHandler(consumer_key, consumer_secret)\n",
    "auth.set_access_token(access_token, access_token_secret)\n",
    "api = tweepy.API(auth)\n",
    "\n",
    "# Define the topic you want to analyze\n",
    "topic = 'volunteering'\n",
    "\n",
    "# Check if the file already exists\n",
    "if os.path.isfile('tweet_data.csv'):\n",
    "    # Load the existing data from the CSV file\n",
    "    tweet_data = pd.read_csv('tweet_data.csv')\n",
    "    # Get the ID of the most recent tweet in the existing data\n",
    "    since_id = tweet_data['id'].max()\n",
    "else:\n",
    "    # Create an empty DataFrame to store the tweet data\n",
    "    tweet_data = pd.DataFrame(columns=['id', 'tweet', 'polarity', 'subjectivity', 'date'])\n",
    "    # Set since_id to None to collect all tweets on the topic\n",
    "    since_id = None\n",
    "\n",
    "# Collect tweets on the topic for the last year (or since the most recent tweet in the existing data)\n",
    "tweets = tweepy.Cursor(api.search_tweets, q=topic, lang='en', tweet_mode='extended', since_id=since_id).items()\n",
    "\n",
    "# Loop through the tweets and perform sentiment analysis on each one\n",
    "for tweet in tweets:\n",
    "    tweet_id = tweet.id\n",
    "    tweet_text = tweet.full_text\n",
    "    tweet_date = tweet.created_at\n",
    "    analysis = TextBlob(tweet_text)\n",
    "    polarity = analysis.sentiment.polarity\n",
    "    subjectivity = analysis.sentiment.subjectivity\n",
    "    tweet_data = tweet_data.append({'id': tweet_id, 'tweet': tweet_text, 'polarity': polarity, 'subjectivity': subjectivity, 'date': tweet_date}, ignore_index=True)\n",
    "\n",
    "# Save the tweet data to a CSV file\n",
    "tweet_data.to_csv('tweet_data.csv', index=False)"
   ]
  },
  {
   "cell_type": "markdown",
   "id": "25c287ee",
   "metadata": {},
   "source": [
    "# Dashboard "
   ]
  },
  {
   "cell_type": "code",
   "execution_count": null,
   "id": "0a501a0d",
   "metadata": {},
   "outputs": [],
   "source": [
    "import pandas as pd\n",
    "import plotly.express as px\n",
    "import dash\n",
    "import dash_core_components as dcc\n",
    "import dash_html_components as html\n",
    "\n",
    "# Load the tweet data\n",
    "tweet_data = pd.read_csv('tweet_data.csv')\n",
    "\n",
    "# Create a Plotly line chart of the sentiment over time\n",
    "fig = px.line(tweet_data, x='date', y='polarity', title='Sentiment over Time')\n",
    "\n",
    "# Create a Dash app\n",
    "app = dash.Dash(__name__)\n",
    "\n",
    "# Define the app layout\n",
    "app.layout = html.Div(children=[\n",
    "    html.H1(children='Sentiment Analysis Dashboard'),\n",
    "    html.Div(children='''A dashboard to display sentiment analysis on a specific topic.'''),\n",
    "    dcc.Graph(id='sentiment-chart', figure=fig)\n",
    "])\n",
    "\n",
    "# Run the app\n",
    "if __name__ == '__main__':\n",
    "    app.run_server(debug=True)"
   ]
  }
 ],
 "metadata": {
  "kernelspec": {
   "display_name": "Python 3 (ipykernel)",
   "language": "python",
   "name": "python3"
  },
  "language_info": {
   "codemirror_mode": {
    "name": "ipython",
    "version": 3
   },
   "file_extension": ".py",
   "mimetype": "text/x-python",
   "name": "python",
   "nbconvert_exporter": "python",
   "pygments_lexer": "ipython3",
   "version": "3.9.12"
  }
 },
 "nbformat": 4,
 "nbformat_minor": 5
}
