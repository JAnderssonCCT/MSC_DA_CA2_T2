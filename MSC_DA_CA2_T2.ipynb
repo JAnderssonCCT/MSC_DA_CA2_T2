{
 "cells": [
  {
   "cell_type": "markdown",
   "id": "70b0f3b8",
   "metadata": {},
   "source": [
    "# Importing libraries"
   ]
  },
  {
   "cell_type": "code",
   "execution_count": 1,
   "id": "d5fe18ca",
   "metadata": {},
   "outputs": [],
   "source": [
    "import pandas as pd\n",
    "import os\n",
    "import csv\n",
    "import datetime\n",
    "import time\n",
    "from pytz import timezone\n",
    "import tweepy\n",
    "import json"
   ]
  },
  {
   "cell_type": "markdown",
   "id": "9c85e1ba",
   "metadata": {},
   "source": [
    "# Loading the credentials"
   ]
  },
  {
   "cell_type": "code",
   "execution_count": 2,
   "id": "65039743",
   "metadata": {},
   "outputs": [
    {
     "name": "stdout",
     "output_type": "stream",
     "text": [
      "Twitter API connection successful.\n"
     ]
    }
   ],
   "source": [
    "# Load the Twitter API credentials from the config file\n",
    "with open('config.json', 'r') as f:\n",
    "    config = json.load(f)\n",
    "    consumer_key = config['consumer_key']\n",
    "    consumer_secret = config['consumer_secret']\n",
    "    access_token = config['access_token']\n",
    "    access_token_secret = config['access_token_secret']\n",
    "    \n",
    "# Verify the Twitter API credentials\n",
    "auth = tweepy.OAuthHandler(consumer_key, consumer_secret)\n",
    "auth.set_access_token(access_token, access_token_secret)\n",
    "try:\n",
    "    api = tweepy.API(auth, wait_on_rate_limit=True)\n",
    "    user = api.verify_credentials()\n",
    "    print(\"Twitter API connection successful.\")\n",
    "except tweepy.error.TweepError as e:\n",
    "    print(\"Error: Failed to verify Twitter API credentials.\")\n",
    "    print(e)"
   ]
  },
  {
   "cell_type": "markdown",
   "id": "f00d1610",
   "metadata": {},
   "source": [
    "# Disabling warnings"
   ]
  },
  {
   "cell_type": "code",
   "execution_count": 3,
   "id": "374410ae",
   "metadata": {},
   "outputs": [],
   "source": [
    "import warnings\n",
    "warnings.filterwarnings(\"ignore\")"
   ]
  },
  {
   "cell_type": "markdown",
   "id": "db8c567c",
   "metadata": {},
   "source": [
    "# Downloading twitter data"
   ]
  },
  {
   "cell_type": "code",
   "execution_count": null,
   "id": "ba1a17cb",
   "metadata": {},
   "outputs": [],
   "source": [
    "# Define the topic and date range\n",
    "topic = 'Ireland'\n",
    "end_date = datetime.datetime(2023, 5, 21, tzinfo=timezone('Europe/London'))\n",
    "start_date = datetime.datetime(2022, 5, 21, tzinfo=timezone('Europe/London'))\n",
    "\n",
    "# Fetch tweets on the specified topic\n",
    "try:\n",
    "    tweets = []\n",
    "    for tweet in tweepy.Cursor(api.search_tweets, q=topic, lang='en', tweet_mode='extended').items(1000):\n",
    "        if start_date <= tweet.created_at <= end_date:\n",
    "            tweets.append(tweet.full_text)\n",
    "    print(\"Tweets downloaded successfully.\")\n",
    "except tweepy.TweepyException as e:\n",
    "    if e.api_code == 88:\n",
    "        # Rate limit reached, wait for the specified duration\n",
    "        wait_time = int(e.response.headers['Retry-After'])\n",
    "        print(\"Rate limit reached. Sleeping for:\", wait_time, \"seconds.\")\n",
    "        time.sleep(wait_time)\n",
    "    print(\"Error: Failed to download tweets.\")\n",
    "    print(e)\n",
    "\n",
    "# Save the tweets to a CSV file\n",
    "csv_filename = 'tweets.csv'\n",
    "try:\n",
    "    with open(csv_filename, 'w', encoding='utf-8', newline='') as csvfile:\n",
    "        writer = csv.writer(csvfile)\n",
    "        writer.writerow(['Tweet'])\n",
    "        for tweet in tweet:\n",
    "            writer.writerow([tweet])\n",
    "    print(\"Tweets saved to\", csv_filename)\n",
    "except IOError:\n",
    "    print(\"Error: Failed to save tweets to CSV file.\")"
   ]
  },
  {
   "cell_type": "code",
   "execution_count": null,
   "id": "743b6ade",
   "metadata": {},
   "outputs": [],
   "source": []
  }
 ],
 "metadata": {
  "kernelspec": {
   "display_name": "Python 3 (ipykernel)",
   "language": "python",
   "name": "python3"
  },
  "language_info": {
   "codemirror_mode": {
    "name": "ipython",
    "version": 3
   },
   "file_extension": ".py",
   "mimetype": "text/x-python",
   "name": "python",
   "nbconvert_exporter": "python",
   "pygments_lexer": "ipython3",
   "version": "3.9.12"
  }
 },
 "nbformat": 4,
 "nbformat_minor": 5
}
